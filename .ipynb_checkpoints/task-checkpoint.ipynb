{
 "cells": [
  {
   "cell_type": "code",
   "execution_count": 5,
   "id": "2ec63ccd-1d67-4bed-809a-5651ab174809",
   "metadata": {},
   "outputs": [],
   "source": [
    "from nn_grad import Node\n",
    "from nn_loss import MinsqrLoss, MinsqrLoss\n",
    "from nn_optimizer import AdamOptim, StochasticOptim\n",
    "from nn_layer import *"
   ]
  },
  {
   "cell_type": "code",
   "execution_count": null,
   "id": "65ab0471-0efe-4d7a-a10a-d8423e3d226b",
   "metadata": {},
   "outputs": [],
   "source": []
  }
 ],
 "metadata": {
  "kernelspec": {
   "display_name": "Python 3 (ipykernel)",
   "language": "python",
   "name": "python3"
  },
  "language_info": {
   "codemirror_mode": {
    "name": "ipython",
    "version": 3
   },
   "file_extension": ".py",
   "mimetype": "text/x-python",
   "name": "python",
   "nbconvert_exporter": "python",
   "pygments_lexer": "ipython3",
   "version": "3.12.6"
  }
 },
 "nbformat": 4,
 "nbformat_minor": 5
}
